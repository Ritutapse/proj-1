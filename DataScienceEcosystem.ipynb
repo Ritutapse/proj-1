{
 "cells": [
  {
   "cell_type": "markdown",
   "id": "965de646",
   "metadata": {},
   "source": [
    "# Data Science Tools and Ecosystem"
   ]
  },
  {
   "cell_type": "markdown",
   "id": "fba43eb5",
   "metadata": {},
   "source": [
    "In this notebook, Data Science Tools and Ecosystem are summarized."
   ]
  },
  {
   "cell_type": "markdown",
   "id": "31bf9d07",
   "metadata": {},
   "source": [
    "Some of the commonly used libraries used by Data Scientists include:\n",
    "1. Pandas\n",
    "2. Numpy\n",
    "3. Scipy"
   ]
  },
  {
   "cell_type": "markdown",
   "id": "f0671903",
   "metadata": {},
   "source": [
    "Some of the popular languages that Data Scientists use are:\n",
    "1. Python\n",
    "2. R\n",
    "3. SQL"
   ]
  },
  {
   "cell_type": "markdown",
   "id": "c22ef1f5",
   "metadata": {},
   "source": [
    "Data Science Tools\n",
    "----------------------------\n",
    "RStudio\n",
    "Apache Spark\n",
    "TensorFlow"
   ]
  },
  {
   "cell_type": "markdown",
   "id": "f2167651",
   "metadata": {},
   "source": [
    "|Data Science Tools|\n",
    "------------------------------\n",
    "|RStudio|\n",
    "|Apache Spark|\n",
    "TensorFlow|"
   ]
  },
  {
   "cell_type": "markdown",
   "id": "35e48fcd",
   "metadata": {},
   "source": [
    "### Below are a few examples of evaluating arithmetic expressions in Python"
   ]
  },
  {
   "cell_type": "code",
   "execution_count": 1,
   "id": "fe23b9fd",
   "metadata": {},
   "outputs": [
    {
     "data": {
      "text/plain": [
       "17"
      ]
     },
     "execution_count": 1,
     "metadata": {},
     "output_type": "execute_result"
    }
   ],
   "source": [
    "(3*4)+5"
   ]
  },
  {
   "cell_type": "code",
   "execution_count": 2,
   "id": "a1652141",
   "metadata": {},
   "outputs": [
    {
     "data": {
      "text/plain": [
       "33.333333333333336"
      ]
     },
     "execution_count": 2,
     "metadata": {},
     "output_type": "execute_result"
    }
   ],
   "source": [
    "#This will convert 200 minutes to hours by diving by 60.\n",
    "200/6"
   ]
  },
  {
   "cell_type": "markdown",
   "id": "af79ac93",
   "metadata": {},
   "source": [
    "**Objectives:**\n",
    "- List popular languages for Data Science\n",
    "- List commonly used languages for data science\n",
    "- Display output of simple arithmetic expression "
   ]
  },
  {
   "cell_type": "markdown",
   "id": "51c7a8bc",
   "metadata": {},
   "source": [
    "## Author\n",
    "Ritu"
   ]
  },
  {
   "cell_type": "code",
   "execution_count": null,
   "id": "ecc02d6a",
   "metadata": {},
   "outputs": [],
   "source": []
  }
 ],
 "metadata": {
  "kernelspec": {
   "display_name": "Python 3 (ipykernel)",
   "language": "python",
   "name": "python3"
  },
  "language_info": {
   "codemirror_mode": {
    "name": "ipython",
    "version": 3
   },
   "file_extension": ".py",
   "mimetype": "text/x-python",
   "name": "python",
   "nbconvert_exporter": "python",
   "pygments_lexer": "ipython3",
   "version": "3.9.7"
  }
 },
 "nbformat": 4,
 "nbformat_minor": 5
}
